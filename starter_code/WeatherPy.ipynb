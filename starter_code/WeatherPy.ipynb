{
 "cells": [
  {
   "cell_type": "markdown",
   "metadata": {},
   "source": [
    "# WeatherPy\n",
    "----\n",
    "\n",
    "#### Note\n",
    "* Instructions have been included for each segment. You do not have to follow them exactly, but they are included to help you think through the steps."
   ]
  },
  {
   "cell_type": "code",
   "execution_count": 2,
   "metadata": {
    "scrolled": true
   },
   "outputs": [],
   "source": [
    "# Dependencies and Setup\n",
    "import matplotlib.pyplot as plt\n",
    "import pandas as pd\n",
    "import numpy as np\n",
    "import requests\n",
    "import time\n",
    "from scipy.stats import linregress\n",
    "\n",
    "# Import API key\n",
    "from api_keys import weather_api_key\n",
    "\n",
    "# Incorporated citipy to determine city based on latitude and longitude\n",
    "\n",
    "from citipy import citipy\n",
    "\n",
    "# Output File (CSV)\n",
    "output_data_file = \"output_data/cities.csv\"\n",
    "\n",
    "# Range of latitudes and longitudes\n",
    "lat_range = (-90, 90)\n",
    "lng_range = (-180, 180)"
   ]
  },
  {
   "cell_type": "code",
   "execution_count": null,
   "metadata": {},
   "outputs": [],
   "source": []
  },
  {
   "cell_type": "markdown",
   "metadata": {},
   "source": [
    "## Generate Cities List"
   ]
  },
  {
   "cell_type": "code",
   "execution_count": 3,
   "metadata": {},
   "outputs": [
    {
     "data": {
      "text/plain": [
       "604"
      ]
     },
     "execution_count": 3,
     "metadata": {},
     "output_type": "execute_result"
    }
   ],
   "source": [
    "# List for holding lat_lngs and cities\n",
    "lat_lngs = []\n",
    "cities = []\n",
    "\n",
    "# Create a set of random lat and lng combinations\n",
    "lats = np.random.uniform(lat_range[0], lat_range[1], size=1500)\n",
    "lngs = np.random.uniform(lng_range[0], lng_range[1], size=1500)\n",
    "lat_lngs = zip(lats, lngs)\n",
    "\n",
    "# Identify nearest city for each lat, lng combination\n",
    "for lat_lng in lat_lngs:\n",
    "    city = citipy.nearest_city(lat_lng[0], lat_lng[1]).city_name\n",
    "    \n",
    "    # If the city is unique, then add it to a our cities list\n",
    "    if city not in cities:\n",
    "        cities.append(city)\n",
    "\n",
    "# Print the city count to confirm sufficient count\n",
    "len(cities)"
   ]
  },
  {
   "cell_type": "markdown",
   "metadata": {},
   "source": [
    "### Perform API Calls\n",
    "* Perform a weather check on each city using a series of successive API calls.\n",
    "* Include a print log of each city as it'sbeing processed (with the city number and city name).\n"
   ]
  },
  {
   "cell_type": "code",
   "execution_count": 31,
   "metadata": {},
   "outputs": [
    {
     "name": "stdout",
     "output_type": "stream",
     "text": [
      "<class 'list'>\n"
     ]
    }
   ],
   "source": [
    "print(type(cities))"
   ]
  },
  {
   "cell_type": "code",
   "execution_count": 4,
   "metadata": {},
   "outputs": [
    {
     "name": "stdout",
     "output_type": "stream",
     "text": [
      "Processing port alfred with ID 964432\n",
      "Processing mataura with ID 6201424\n",
      "Processing kapaa with ID 5848280\n",
      "Processing najran with ID 103630\n",
      "Processing albany with ID 5106841\n",
      "Processing vao with ID 2137773\n",
      "Processing zeya with ID 2012593\n",
      "Processing cayenne with ID 3382160\n",
      "Processing upernavik with ID 3418910\n",
      "Processing tuktoyaktuk with ID 6170031\n",
      "Processing san rafael with ID 3836669\n",
      "Processing luderitz with ID 3355672\n",
      "Processing chipinge with ID 893549\n",
      "Processing atchison with ID 4267733\n",
      "Processing nanortalik with ID 3421765\n",
      "Processing jamestown with ID 5122534\n",
      "Processing aguia branca with ID 3472820\n",
      "Processing puerto princesa with ID 1692685\n",
      "Processing bagamoyo with ID 161290\n",
      "Processing cape town with ID 3369157\n",
      "Processing butaritari with ID 2110227\n",
      "Processing bluff with ID 2206939\n",
      "Processing tolga with ID 2475612\n",
      "Processing deputatskiy with ID 2028164\n",
      "Processing busselton with ID 2075265\n",
      "Processing port-cartier with ID 6111696\n",
      "Processing bengkulu with ID 1649150\n",
      "Processing strathpeffer with ID 2651245\n",
      "Processing acajutla with ID 3587498\n",
      "Processing punta arenas with ID 3874787\n",
      "Processing vaini with ID 4032243\n",
      "Processing east london with ID 1006984\n",
      "Processing saskylakh with ID 2017155\n",
      "Processing san angelo with ID 5530022\n",
      "Processing dodge city with ID 5445298\n",
      "Processing yaqui with ID 3979975\n",
      "Processing lavrentiya with ID 4031637\n",
      "Processing sakakah with ID 102527\n",
      "Processing touros with ID 3386213\n",
      "Processing sorland with ID 3137469\n",
      "Processing hobart with ID 2163355\n",
      "Processing houma with ID 4328010\n",
      "Processing udachnyy with ID 2014624\n",
      "Processing itarema with ID 3393692\n",
      "Processing saleaula with ID 3393692\n",
      "Processing chokurdakh with ID 2126123\n",
      "Processing porto velho with ID 3662762\n",
      "Processing pitrufquen with ID 3875746\n",
      "Processing carnarvon with ID 2074865\n",
      "Processing katsuura with ID 2112309\n",
      "Processing jiexiu with ID 1805833\n",
      "Processing sur with ID 286245\n",
      "Processing arraial do cabo with ID 3471451\n",
      "Processing attawapiskat with ID 3471451\n",
      "Processing yellowknife with ID 6185377\n",
      "Processing puerto ayora with ID 3652764\n",
      "Processing hithadhoo with ID 1282256\n",
      "Processing norman wells with ID 6089245\n",
      "Processing komsomolskiy with ID 1513491\n",
      "Processing rungata with ID 1513491\n",
      "Processing louisbourg with ID 1513491\n",
      "Processing tiksi with ID 2015306\n",
      "Processing narsaq with ID 3421719\n",
      "Processing atuona with ID 4020109\n",
      "Processing pyaozerskiy with ID 503581\n",
      "Processing port hedland with ID 2063042\n",
      "Processing thompson with ID 6165406\n",
      "Processing krasnyy chikoy with ID 2012349\n",
      "Processing ushuaia with ID 3833367\n",
      "Processing tokonou with ID 2414659\n",
      "Processing sao filipe with ID 3374210\n",
      "Processing illoqqortoormiut with ID 3374210\n",
      "Processing tasiilaq with ID 3424607\n",
      "Processing changping with ID 2038154\n",
      "Processing cabo san lucas with ID 3985710\n",
      "Processing borogontsy with ID 2026160\n",
      "Processing tabou with ID 2281120\n",
      "Processing vilcun with ID 3868210\n",
      "Processing coari with ID 3664539\n",
      "Processing lebu with ID 3883457\n",
      "Processing pevek with ID 2122090\n",
      "Processing bang racham with ID 1619281\n",
      "Processing kayanga with ID 151262\n",
      "Processing gualdo tadino with ID 6536873\n",
      "Processing nikolskoye with ID 546105\n",
      "Processing saint george with ID 5546220\n",
      "Processing odienne with ID 2283016\n",
      "Processing sorong with ID 1626542\n",
      "Processing mar del plata with ID 3430863\n",
      "Processing sept-iles with ID 6144312\n",
      "Processing chara with ID 2025630\n",
      "Processing uige with ID 2236568\n",
      "Processing adrar with ID 2381972\n",
      "Processing bubaque with ID 2374583\n",
      "Processing gold coast with ID 2165087\n",
      "Processing bambous virieux with ID 1106677\n",
      "Processing torbay with ID 6167817\n",
      "Processing esperance with ID 2071860\n",
      "Processing asyut with ID 359783\n",
      "Processing elliot with ID 1005781\n",
      "Processing hermanus with ID 3366880\n",
      "Processing ponta do sol with ID 2264557\n",
      "Processing geraldton with ID 2070998\n",
      "Processing xichang with ID 1789647\n",
      "Processing lagoa with ID 3372964\n",
      "Processing san luis with ID 3837056\n",
      "Processing rikitea with ID 4030556\n",
      "Processing paamiut with ID 3421193\n",
      "Processing ketchikan with ID 5554428\n",
      "Processing timbiqui with ID 3667070\n",
      "Processing ilulissat with ID 3423146\n",
      "Processing vestmannaeyjar with ID 3412093\n",
      "Processing santa marta with ID 3668605\n",
      "Processing saint-denis with ID 2980915\n",
      "Processing longyearbyen with ID 2729907\n",
      "Processing mildura with ID 2157698\n",
      "Processing adre with ID 245669\n",
      "Processing kloulklubed with ID 7671223\n",
      "Processing provideniya with ID 4031574\n",
      "Processing hihifo with ID 4031574\n",
      "Processing utiroa with ID 4031574\n",
      "Processing dikson with ID 1507390\n",
      "Processing cherskiy with ID 2126199\n",
      "Processing vestmanna with ID 2610343\n",
      "Processing umzimvubu with ID 2610343\n",
      "Processing georgetown with ID 1735106\n",
      "Processing makokou with ID 2399371\n",
      "Processing bijar with ID 140521\n",
      "Processing maibong with ID 1264322\n",
      "Processing richards bay with ID 962367\n",
      "Processing leningradskiy with ID 2123814\n",
      "Processing oussouye with ID 2246901\n",
      "Processing barretos with ID 3470451\n",
      "Processing ancud with ID 3899695\n",
      "Processing barbar with ID 3899695\n",
      "Processing clyde river with ID 5924351\n",
      "Processing wamba with ID 2319257\n",
      "Processing tambovka with ID 2015608\n",
      "Processing alekseyevsk with ID 2022083\n",
      "Processing algiers with ID 2507480\n",
      "Processing qaanaaq with ID 3831208\n",
      "Processing mahebourg with ID 934322\n",
      "Processing kyra with ID 2021041\n",
      "Processing kodiak with ID 5866583\n",
      "Processing berdigestyakh with ID 2026861\n",
      "Processing belushya guba with ID 2026861\n",
      "Processing lolua with ID 2026861\n",
      "Processing ahuimanu with ID 5856516\n",
      "Processing college with ID 5859699\n",
      "Processing saint-augustin with ID 6137462\n",
      "Processing vardo with ID 777019\n",
      "Processing padang with ID 1633419\n",
      "Processing port elizabeth with ID 964420\n",
      "Processing changli with ID 1815656\n",
      "Processing yabrud with ID 162627\n",
      "Processing tidore with ID 162627\n",
      "Processing severo-yeniseyskiy with ID 1492566\n",
      "Processing chantada with ID 3125212\n",
      "Processing broome with ID 5110365\n",
      "Processing nichinan with ID 1855476\n",
      "Processing new norfolk with ID 2155415\n",
      "Processing victoria with ID 1819729\n",
      "Processing waipawa with ID 2206874\n",
      "Processing bethel with ID 5282297\n",
      "Processing tuatapere with ID 2180815\n",
      "Processing taolanaro with ID 2180815\n",
      "Processing skalistyy with ID 2180815\n",
      "Processing goderich with ID 5962442\n",
      "Processing yurga with ID 1485724\n",
      "Processing nossa senhora das dores with ID 3456234\n",
      "Processing mys shmidta with ID 3456234\n",
      "Processing nome with ID 5870133\n",
      "Processing chimbote with ID 3698304\n",
      "Processing buraydah with ID 107304\n",
      "Processing mucurapo with ID 3574069\n",
      "Processing bandarbeyla with ID 64814\n",
      "Processing lobito with ID 3347939\n",
      "Processing muli with ID 1337617\n",
      "Processing kavieng with ID 2094342\n",
      "Processing iqaluit with ID 5983720\n",
      "Processing novooleksiyivka with ID 699706\n",
      "Processing bredasdorp with ID 1015776\n",
      "Processing pangkalanbuun with ID 1632694\n",
      "Processing ribeira grande with ID 3372707\n",
      "Processing muisne with ID 3653967\n",
      "Processing saldanha with ID 3361934\n",
      "Processing teacapan with ID 3982287\n",
      "Processing southbridge with ID 4951594\n",
      "Processing hami with ID 1529484\n",
      "Processing mindelo with ID 3374462\n",
      "Processing kaitangata with ID 2208248\n",
      "Processing chapais with ID 5919850\n",
      "Processing hilo with ID 5855927\n",
      "Processing tiblawan with ID 1682393\n",
      "Processing samusu with ID 1682393\n",
      "Processing kharod with ID 1266882\n",
      "Processing meulaboh with ID 1214488\n",
      "Processing karamea with ID 1214488\n",
      "Processing baft with ID 390054\n",
      "Processing birjand with ID 140463\n",
      "Processing watertown with ID 4954611\n",
      "Processing klaksvik with ID 2618795\n",
      "Processing fergus falls with ID 5026416\n",
      "Processing saint-philippe with ID 935215\n",
      "Processing ostrovnoy with ID 556268\n",
      "Processing arlit with ID 2447513\n",
      "Processing kamenskoye with ID 2447513\n",
      "Processing robore with ID 3444176\n",
      "Processing lipin bor with ID 535113\n",
      "Processing antibes with ID 3037456\n",
      "Processing kruisfontein with ID 986717\n",
      "Processing binzhou with ID 1816336\n",
      "Processing pogar with ID 507875\n",
      "Processing novopskov with ID 699311\n",
      "Processing tongren with ID 1792592\n",
      "Processing chicama with ID 3698359\n",
      "Processing quezon with ID 1692214\n",
      "Processing shaowu with ID 1795857\n",
      "Processing san patricio with ID 3985168\n",
      "Processing khotyn with ID 706244\n",
      "Processing palabuhanratu with ID 706244\n",
      "Processing champerico with ID 3598787\n",
      "Processing castro with ID 3466704\n",
      "Processing marzuq with ID 72181\n",
      "Processing beyneu with ID 610298\n",
      "Processing mount darwin with ID 885800\n"
     ]
    },
    {
     "name": "stdout",
     "output_type": "stream",
     "text": [
      "Processing rio de janeiro with ID 3451190\n",
      "Processing kasongo-lunda with ID 2315026\n",
      "Processing kilindoni with ID 157429\n",
      "Processing naze with ID 1855540\n",
      "Processing khash with ID 1160571\n",
      "Processing avera with ID 4231997\n",
      "Processing louis trichardt with ID 981827\n",
      "Processing barentsburg with ID 981827\n",
      "Processing tiznit with ID 2527087\n",
      "Processing guerrero negro with ID 4021858\n",
      "Processing aykhal with ID 2027296\n",
      "Processing mandalgovi with ID 2030065\n",
      "Processing kiunga with ID 2093846\n",
      "Processing nago with ID 1856068\n",
      "Processing salisbury with ID 2638664\n",
      "Processing bolshaya yelkhovka with ID 2638664\n",
      "Processing warqla with ID 2638664\n",
      "Processing avarua with ID 4035715\n",
      "Processing port macquarie with ID 2152659\n",
      "Processing hudiksvall with ID 2704613\n",
      "Processing pointe michel with ID 3575660\n",
      "Processing candawaga with ID 3575660\n",
      "Processing cockburn town with ID 3576994\n",
      "Processing nizhneyansk with ID 3576994\n",
      "Processing wattegama with ID 1224061\n",
      "Processing kindu with ID 212902\n",
      "Processing basco with ID 1726449\n",
      "Processing port keats with ID 2063039\n",
      "Processing batagay-alyta with ID 2027042\n",
      "Processing pueblo with ID 5435464\n",
      "Processing huadian with ID 2036776\n",
      "Processing henties bay with ID 3356832\n",
      "Processing wanaka with ID 2184707\n",
      "Processing sao joao da barra with ID 3448903\n",
      "Processing khatanga with ID 2022572\n",
      "Processing san francisco with ID 5391959\n",
      "Processing king city with ID 5363208\n",
      "Processing villa carlos paz with ID 3832791\n",
      "Processing tazovskiy with ID 1489853\n",
      "Processing arinos with ID 3471522\n",
      "Processing aklavik with ID 5882953\n",
      "Processing bad krozingen with ID 6555730\n",
      "Processing jashpurnagar with ID 1269177\n",
      "Processing antofagasta with ID 3899539\n",
      "Processing cidreira with ID 3466165\n",
      "Processing bacolod with ID 1729564\n",
      "Processing turtkul with ID 1729564\n",
      "Processing sentyabrskiy with ID 1729564\n",
      "Processing nizhniy ingash with ID 1497497\n",
      "Processing bemidji with ID 5017822\n",
      "Processing ilula with ID 159179\n",
      "Processing salalah with ID 286621\n",
      "Processing sorvag with ID 286621\n",
      "Processing san jeronimo with ID 3929611\n",
      "Processing strezhevoy with ID 1490796\n",
      "Processing kerman with ID 128234\n",
      "Processing namatanai with ID 2090021\n",
      "Processing altay with ID 1529651\n",
      "Processing samalaeulu with ID 1529651\n",
      "Processing mareeba with ID 2158767\n",
      "Processing bali chak with ID 1277581\n",
      "Processing dudinka with ID 1507116\n",
      "Processing marystown with ID 6067472\n",
      "Processing naryan-mar with ID 523392\n",
      "Processing evensk with ID 2125693\n",
      "Processing poum with ID 2138555\n",
      "Processing wiarton with ID 6186122\n",
      "Processing barrow with ID 5880054\n",
      "Processing kirakira with ID 2178753\n",
      "Processing manacapuru with ID 3663529\n",
      "Processing ahipara with ID 2194098\n",
      "Processing ulaangom with ID 1515029\n",
      "Processing zavitinsk with ID 2012626\n",
      "Processing kostomuksha with ID 543899\n",
      "Processing pisco with ID 3932145\n",
      "Processing codrington with ID 2171099\n",
      "Processing thongwa with ID 1291193\n",
      "Processing mandurah with ID 2067119\n",
      "Processing loei with ID 1609070\n",
      "Processing las cruces with ID 5475352\n",
      "Processing moree with ID 2156927\n",
      "Processing vilyuysk with ID 2013392\n",
      "Processing cairns with ID 2172797\n",
      "Processing ahar with ID 144616\n",
      "Processing nabire with ID 1634614\n",
      "Processing egvekinot with ID 4031742\n",
      "Processing hambantota with ID 1244926\n",
      "Processing rocha with ID 3440777\n",
      "Processing arrecife with ID 2521570\n",
      "Processing souillac with ID 933995\n",
      "Processing neuquen with ID 3843123\n",
      "Processing vila velha with ID 3445026\n",
      "Processing dujuma with ID 3445026\n",
      "Processing sabang with ID 1214026\n",
      "Processing namibe with ID 3347019\n",
      "Processing neiafu with ID 4032420\n",
      "Processing peniche with ID 2264923\n",
      "Processing olafsvik with ID 3414079\n",
      "Processing laguna with ID 5364271\n",
      "Processing bishopton with ID 2655548\n",
      "Processing portland with ID 5746545\n",
      "Processing cabra with ID 2520645\n",
      "Processing bathsheba with ID 3374083\n",
      "Processing batesville with ID 4100525\n",
      "Processing thyboron with ID 2611738\n",
      "Processing noumea with ID 2139521\n",
      "Processing bowen with ID 2174444\n",
      "Processing manokwari with ID 1636308\n",
      "Processing erzin with ID 296852\n",
      "Processing rawson with ID 3839307\n",
      "Processing shirokiy with ID 2016680\n",
      "Processing moranbah with ID 6533368\n",
      "Processing berdyuzhye with ID 6533368\n",
      "Processing jinchang with ID 1805733\n",
      "Processing amderma with ID 1805733\n",
      "Processing paciran with ID 1633442\n",
      "Processing sussex with ID 5105168\n",
      "Processing sioux lookout with ID 6148373\n",
      "Processing alofi with ID 4036284\n",
      "Processing caravelas with ID 3466980\n",
      "Processing chuy with ID 3443061\n",
      "Processing voi with ID 178522\n",
      "Processing beloha with ID 1067565\n",
      "Processing pangnirtung with ID 6096551\n",
      "Processing springdale with ID 4132093\n",
      "Processing praia da vitoria with ID 3372760\n",
      "Processing okhotsk with ID 2122605\n",
      "Processing muskegon with ID 5003136\n",
      "Processing laurinburg with ID 4475347\n",
      "Processing tabiauea with ID 4475347\n",
      "Processing tsabong with ID 932987\n",
      "Processing sauce with ID 3440379\n",
      "Processing hamilton with ID 4513583\n",
      "Processing umm lajj with ID 100926\n",
      "Processing hofn with ID 2630299\n",
      "Processing manicore with ID 3663503\n",
      "Processing pilar with ID 3392126\n",
      "Processing mnogovershinnyy with ID 2019935\n",
      "Processing talnakh with ID 1490256\n",
      "Processing lorengau with ID 2092164\n",
      "Processing shagonar with ID 1492499\n",
      "Processing shubarkuduk with ID 608271\n",
      "Processing murgab with ID 1218612\n",
      "Processing nicoya with ID 3622716\n",
      "Processing te anau with ID 2181625\n",
      "Processing joshimath with ID 1268814\n",
      "Processing cabedelo with ID 3404558\n",
      "Processing kuche with ID 3404558\n",
      "Processing vladyslavivka with ID 689374\n",
      "Processing pontianak with ID 1630789\n",
      "Processing toulepleu with ID 1630789\n",
      "Processing zambezi with ID 895953\n",
      "Processing mullaitivu with ID 895953\n",
      "Processing mecca with ID 104515\n",
      "Processing viligili with ID 104515\n",
      "Processing san cristobal with ID 3628473\n",
      "Processing port blair with ID 1259385\n",
      "Processing yulara with ID 6355222\n",
      "Processing rio grande with ID 3451138\n",
      "Processing gunjur with ID 2413419\n",
      "Processing burnie with ID 2173125\n",
      "Processing sulurpeta with ID 2173125\n",
      "Processing muzquiz with ID 2173125\n",
      "Processing garowe with ID 58933\n",
      "Processing husavik with ID 2629833\n",
      "Processing pouebo with ID 2138607\n",
      "Processing beisfjord with ID 3144987\n",
      "Processing glubokiy with ID 561146\n",
      "Processing san vicente with ID 3428068\n",
      "Processing tual with ID 1623197\n",
      "Processing nizwa with ID 286987\n",
      "Processing godda with ID 1271113\n",
      "Processing ust-kuyga with ID 2013921\n",
      "Processing kadykchan with ID 2013921\n",
      "Processing astana with ID 1526273\n",
      "Processing tecoanapa with ID 3516171\n",
      "Processing russell with ID 4047434\n",
      "Processing flinders with ID 6255012\n",
      "Processing boa vista with ID 3664980\n",
      "Processing samatau with ID 3664980\n",
      "Processing bilma with ID 2446796\n",
      "Processing ponta delgada with ID 3372783\n",
      "Processing coffs harbour with ID 2171085\n",
      "Processing waterloo with ID 6176823\n",
      "Processing bilibino with ID 2126682\n",
      "Processing tsihombe with ID 2126682\n",
      "Processing dvinskoy with ID 563990\n",
      "Processing port lincoln with ID 2063036\n",
      "Processing bonthe with ID 2409914\n",
      "Processing riyadh with ID 108410\n",
      "Processing manaus with ID 3663517\n",
      "Processing faanui with ID 4034551\n",
      "Processing san quintin with ID 3984997\n",
      "Processing airai with ID 1651810\n",
      "Processing korla with ID 1529376\n",
      "Processing seremban with ID 1734810\n",
      "Processing hazebrouck with ID 3013619\n",
      "Processing antequera with ID 2521710\n",
      "Processing berlevag with ID 780687\n",
      "Processing cervo with ID 3125287\n",
      "Processing broken hill with ID 2173911\n",
      "Processing castanos with ID 4015022\n",
      "Processing nkayi with ID 2259383\n",
      "Processing soyo with ID 2236967\n",
      "Processing tachov with ID 3064373\n",
      "Processing hayden with ID 5595320\n",
      "Processing loveland with ID 5579368\n",
      "Processing ushtobe with ID 1517637\n",
      "Processing lahijan with ID 125897\n",
      "Processing kita with ID 2455216\n",
      "Processing montataire with ID 6438832\n",
      "Processing opunake with ID 2206357\n",
      "Processing lethem with ID 3379316\n",
      "Processing yuzhno-yeniseyskiy with ID 3379316\n",
      "Processing hachinohe with ID 2130203\n",
      "Processing victor harbor with ID 2059470\n",
      "Processing sembakung with ID 1627877\n",
      "Processing mikun with ID 526600\n",
      "Processing port hardy with ID 6111862\n",
      "Processing san andres with ID 3670218\n",
      "Processing azangaro with ID 3946937\n",
      "Processing katobu with ID 1640972\n",
      "Processing pierre with ID 5767918\n",
      "Processing labuhan with ID 8079926\n",
      "Processing iquitos with ID 3696183\n",
      "Processing churapcha with ID 2025241\n",
      "Processing jalingo with ID 2336589\n"
     ]
    },
    {
     "name": "stdout",
     "output_type": "stream",
     "text": [
      "Processing harper with ID 2276492\n",
      "Processing camacha with ID 2270385\n",
      "Processing taksimo with ID 2015701\n",
      "Processing wyndham with ID 4794814\n",
      "Processing saint-francois with ID 2980080\n",
      "Processing marawi with ID 1701054\n",
      "Processing phan thiet with ID 1571058\n",
      "Processing kahului with ID 5847411\n",
      "Processing tirau with ID 2181100\n",
      "Processing blanquefort with ID 3032340\n",
      "Processing marsh harbour with ID 3571913\n",
      "Processing nuuk with ID 3421319\n",
      "Processing severnyy-kospashskiy with ID 496307\n",
      "Processing rapid valley with ID 5768244\n",
      "Processing robertson with ID 4653638\n",
      "Processing burla with ID 1275050\n",
      "Processing polonnaruwa with ID 1229901\n",
      "Processing miri with ID 1738050\n",
      "Processing karratha with ID 6620339\n",
      "Processing innerleithen with ID 2646172\n",
      "Processing lekoni with ID 2399831\n",
      "Processing zhetybay with ID 2399831\n",
      "Processing namtsy with ID 2019488\n",
      "Processing ca mau with ID 1586443\n",
      "Processing vanavara with ID 2013727\n",
      "Processing jieshi with ID 1805857\n",
      "Processing fort saint james with ID 5881688\n",
      "Processing ust-tsilma with ID 477940\n",
      "Processing shingu with ID 1847947\n",
      "Processing oda with ID 1854774\n",
      "Processing atar with ID 2381334\n",
      "Processing bataysk with ID 578740\n",
      "Processing rock sound with ID 3571592\n",
      "Processing udaipura with ID 1253984\n",
      "Processing caucasia with ID 3687025\n",
      "Processing leh with ID 1264976\n",
      "Processing maragogi with ID 3395458\n",
      "Processing ridgecrest with ID 5387494\n",
      "Processing sao miguel do araguaia with ID 3448455\n",
      "Processing usila with ID 3448455\n",
      "Processing rio pardo with ID 3451102\n",
      "Processing constitucion with ID 3893726\n",
      "Processing woodway with ID 4743105\n",
      "Processing van with ID 298117\n",
      "Processing otjimbingwe with ID 3353871\n",
      "Processing wajid with ID 50814\n",
      "Processing okha with ID 2122614\n",
      "Processing tsienyane with ID 2122614\n",
      "Processing jiaojiang with ID 1809061\n",
      "Processing tuggurt with ID 1809061\n",
      "Processing taree with ID 2147381\n",
      "Processing black river with ID 3491355\n",
      "Processing jizan with ID 105298\n",
      "Processing vaitupu with ID 105298\n",
      "Processing missoula with ID 5666648\n",
      "Processing pueblo nuevo with ID 4007676\n",
      "Processing hualmay with ID 3939761\n",
      "Processing guicheng with ID 3939761\n",
      "Processing laranjeiras do sul with ID 3458746\n",
      "Processing outram with ID 1880252\n",
      "Processing saint-leu with ID 6690297\n",
      "Processing mendahara with ID 6690297\n",
      "Processing mulchen with ID 3879200\n",
      "Processing gazli with ID 1513990\n",
      "Processing oriximina with ID 3393471\n",
      "Processing asau with ID 686090\n",
      "Processing waingapu with ID 1622318\n",
      "Processing talara with ID 3691582\n",
      "Processing fukue with ID 1863997\n",
      "Processing karpathos with ID 260895\n",
      "Processing biak with ID 1637001\n",
      "Processing thinadhoo with ID 1337610\n",
      "Processing izumo with ID 1861084\n",
      "Processing channel-port aux basques with ID 5919815\n",
      "Processing the valley with ID 3573374\n",
      "Processing dangriga with ID 3582228\n",
      "Processing darhan with ID 2031964\n",
      "Processing zakamensk with ID 2012728\n",
      "Processing uvira with ID 204405\n",
      "Processing inhambane with ID 1045114\n",
      "Processing svetlogorsk with ID 10722858\n",
      "Processing dongkan with ID 1812427\n",
      "Processing isangel with ID 2136825\n",
      "Processing wahpeton with ID 5062355\n",
      "Processing grand river south east with ID 5062355\n",
      "Processing ciras with ID 5062355\n",
      "Processing montrose with ID 5431716\n",
      "Processing sambava with ID 1056899\n",
      "Processing gorontalo with ID 1643837\n",
      "Processing mocambique with ID 1643837\n",
      "Processing sinnamary with ID 3380290\n",
      "Processing kismayo with ID 55671\n",
      "Processing nhulunbuy with ID 2064735\n",
      "Processing faya with ID 110690\n",
      "Processing hokitika with ID 2206894\n",
      "Processing sokur with ID 1491525\n",
      "Processing tateyama with ID 1850523\n",
      "Processing saint-pierre with ID 935214\n",
      "Processing anito with ID 1730622\n",
      "Processing scarborough with ID 2638419\n",
      "Processing gazanjyk with ID 161974\n",
      "Processing ambilobe with ID 1082243\n",
      "Processing jawar with ID 1269110\n",
      "Processing jalu with ID 86049\n",
      "Processing mishan with ID 2035746\n",
      "Processing herat with ID 1140025\n",
      "Processing luanda with ID 2240449\n",
      "Processing torbat-e jam with ID 1159362\n",
      "Processing inuvik with ID 5983607\n",
      "Processing cordenons with ID 6537929\n",
      "Processing beringovskiy with ID 2126710\n",
      "Processing murupara with ID 2186338\n",
      "Processing caernarfon with ID 2654092\n",
      "Processing mikhaylovka with ID 527012\n",
      "Processing tucupita with ID 3625929\n",
      "Processing jasper with ID 4392354\n",
      "Processing xianyang with ID 1790353\n",
      "Processing coralville with ID 4852640\n",
      "Processing mansehra with ID 1170951\n",
      "Processing bukama with ID 217834\n",
      "Processing saint-georges with ID 3579925\n",
      "Processing ternate with ID 1624041\n",
      "Processing tilichiki with ID 2120591\n",
      "Processing lalawigan with ID 1707911\n",
      "Processing vallenar with ID 3868633\n",
      "Processing moba with ID 7341918\n",
      "Processing malakal with ID 370737\n",
      "Processing petropavlovsk-kamchatskiy with ID 2122104\n",
      "Processing lasa with ID 3175096\n",
      "Processing pirajui with ID 3453605\n",
      "Processing lapua with ID 648855\n",
      "Processing krasnyy yar with ID 541349\n",
      "Processing kavaratti with ID 1267390\n",
      "Processing chunar with ID 1273923\n",
      "Processing dingle with ID 1714733\n",
      "Processing kalispell with ID 5660340\n",
      "Processing oktyabrskoye with ID 515805\n",
      "Processing dicabisagan with ID 1715015\n",
      "Processing meyungs with ID 1715015\n",
      "Processing klamath falls with ID 5735238\n",
      "Processing gasa with ID 281133\n",
      "Processing port augusta with ID 2063056\n",
      "Processing tucuman with ID 3836873\n",
      "Processing kyzyl-suu with ID 1527497\n",
      "Processing hasaki with ID 2112802\n",
      "Processing portobelo with ID 3702577\n",
      "Processing upata with ID 3625710\n",
      "Processing mitu with ID 3674676\n",
      "Processing siocon with ID 1686123\n",
      "Processing zhangye with ID 1785036\n",
      "Processing anadyr with ID 2127202\n"
     ]
    }
   ],
   "source": [
    "params = {'key' : weather_api_key}\n",
    "url = \"http://api.openweathermap.org/data/2.5/weather?\"\n",
    "units = \"imperial\"\n",
    "\n",
    "citydata = []\n",
    "\n",
    "for city in cities:\n",
    "    query_url = f\"{url}appid={weather_api_key}&units={units}&q={city}\"\n",
    "    \n",
    "    cityweather = requests.get(query_url, params=params).json()\n",
    "    try: \n",
    "        cityname = cityweather['name']\n",
    "        cityid = cityweather['id']\n",
    "        lat = cityweather['coord']['lat']\n",
    "        long = cityweather['coord']['lon']\n",
    "        hum = cityweather['main']['humidity']\n",
    "        cloud = cityweather[\"clouds\"][\"all\"]\n",
    "        temp = cityweather[\"main\"][\"temp\"]\n",
    "        ws = cityweather['wind']['speed']\n",
    "    except: \n",
    "        pass\n",
    "    citydata.append({\"City\" : cityname, \"City ID\" : cityid, \"Latitude\" : lat, \"Longitude\" : long, \"Humidity (%)\" : hum, \"Cloudiness (%)\" : cloud, \"Temperature (F)\" : temp, \"Wind Speed (mph)\" : ws})\n",
    "    print(f\"Processing {city} with ID {cityid}\")\n",
    "    "
   ]
  },
  {
   "cell_type": "code",
   "execution_count": 16,
   "metadata": {},
   "outputs": [
    {
     "name": "stdout",
     "output_type": "stream",
     "text": [
      "<class 'dict'>\n"
     ]
    }
   ],
   "source": [
    "print(type(cityweather))"
   ]
  },
  {
   "cell_type": "markdown",
   "metadata": {},
   "source": [
    "### Convert Raw Data to DataFrame\n",
    "* Export the city data into a .csv.\n",
    "* Display the DataFrame"
   ]
  },
  {
   "cell_type": "code",
   "execution_count": 5,
   "metadata": {},
   "outputs": [
    {
     "data": {
      "text/html": [
       "<div>\n",
       "<style scoped>\n",
       "    .dataframe tbody tr th:only-of-type {\n",
       "        vertical-align: middle;\n",
       "    }\n",
       "\n",
       "    .dataframe tbody tr th {\n",
       "        vertical-align: top;\n",
       "    }\n",
       "\n",
       "    .dataframe thead th {\n",
       "        text-align: right;\n",
       "    }\n",
       "</style>\n",
       "<table border=\"1\" class=\"dataframe\">\n",
       "  <thead>\n",
       "    <tr style=\"text-align: right;\">\n",
       "      <th></th>\n",
       "      <th>City</th>\n",
       "      <th>City ID</th>\n",
       "      <th>Latitude</th>\n",
       "      <th>Longitude</th>\n",
       "      <th>Humidity (%)</th>\n",
       "      <th>Cloudiness (%)</th>\n",
       "      <th>Temperature (F)</th>\n",
       "      <th>Wind Speed (mph)</th>\n",
       "    </tr>\n",
       "  </thead>\n",
       "  <tbody>\n",
       "    <tr>\n",
       "      <th>0</th>\n",
       "      <td>Port Alfred</td>\n",
       "      <td>964432</td>\n",
       "      <td>-33.59</td>\n",
       "      <td>26.89</td>\n",
       "      <td>73</td>\n",
       "      <td>17</td>\n",
       "      <td>51.19</td>\n",
       "      <td>10.13</td>\n",
       "    </tr>\n",
       "    <tr>\n",
       "      <th>1</th>\n",
       "      <td>Mataura</td>\n",
       "      <td>6201424</td>\n",
       "      <td>-46.19</td>\n",
       "      <td>168.86</td>\n",
       "      <td>96</td>\n",
       "      <td>21</td>\n",
       "      <td>50.00</td>\n",
       "      <td>1.99</td>\n",
       "    </tr>\n",
       "    <tr>\n",
       "      <th>2</th>\n",
       "      <td>Kapaa</td>\n",
       "      <td>5848280</td>\n",
       "      <td>22.08</td>\n",
       "      <td>-159.32</td>\n",
       "      <td>62</td>\n",
       "      <td>20</td>\n",
       "      <td>83.26</td>\n",
       "      <td>12.75</td>\n",
       "    </tr>\n",
       "    <tr>\n",
       "      <th>3</th>\n",
       "      <td>Najrān</td>\n",
       "      <td>103630</td>\n",
       "      <td>17.49</td>\n",
       "      <td>44.13</td>\n",
       "      <td>21</td>\n",
       "      <td>80</td>\n",
       "      <td>84.20</td>\n",
       "      <td>3.24</td>\n",
       "    </tr>\n",
       "    <tr>\n",
       "      <th>4</th>\n",
       "      <td>Albany</td>\n",
       "      <td>5106841</td>\n",
       "      <td>42.60</td>\n",
       "      <td>-73.97</td>\n",
       "      <td>40</td>\n",
       "      <td>10</td>\n",
       "      <td>73.00</td>\n",
       "      <td>6.69</td>\n",
       "    </tr>\n",
       "  </tbody>\n",
       "</table>\n",
       "</div>"
      ],
      "text/plain": [
       "          City  City ID  Latitude  Longitude  Humidity (%)  Cloudiness (%)  \\\n",
       "0  Port Alfred   964432    -33.59      26.89            73              17   \n",
       "1      Mataura  6201424    -46.19     168.86            96              21   \n",
       "2        Kapaa  5848280     22.08    -159.32            62              20   \n",
       "3       Najrān   103630     17.49      44.13            21              80   \n",
       "4       Albany  5106841     42.60     -73.97            40              10   \n",
       "\n",
       "   Temperature (F)  Wind Speed (mph)  \n",
       "0            51.19             10.13  \n",
       "1            50.00              1.99  \n",
       "2            83.26             12.75  \n",
       "3            84.20              3.24  \n",
       "4            73.00              6.69  "
      ]
     },
     "execution_count": 5,
     "metadata": {},
     "output_type": "execute_result"
    }
   ],
   "source": [
    "fullcitydata = pd.DataFrame(citydata)\n",
    "fullcitydata.head()"
   ]
  },
  {
   "cell_type": "code",
   "execution_count": 6,
   "metadata": {},
   "outputs": [],
   "source": [
    "fullcitydata.to_csv(\"../output_data/fullcitydata.csv\", index=False, header=True)"
   ]
  },
  {
   "cell_type": "markdown",
   "metadata": {},
   "source": [
    "## Inspect the data and remove the cities where the humidity > 100%.\n",
    "----\n",
    "Skip this step if there are no cities that have humidity > 100%. "
   ]
  },
  {
   "cell_type": "code",
   "execution_count": 7,
   "metadata": {},
   "outputs": [
    {
     "data": {
      "text/plain": [
       "[]"
      ]
     },
     "execution_count": 7,
     "metadata": {},
     "output_type": "execute_result"
    }
   ],
   "source": [
    "#  Get the indices of cities that have humidity over 100%.\n",
    "hum_drop = fullcitydata.index[fullcitydata['Humidity (%)'] > 100].tolist()\n",
    "hum_drop"
   ]
  },
  {
   "cell_type": "code",
   "execution_count": 8,
   "metadata": {},
   "outputs": [
    {
     "data": {
      "text/html": [
       "<div>\n",
       "<style scoped>\n",
       "    .dataframe tbody tr th:only-of-type {\n",
       "        vertical-align: middle;\n",
       "    }\n",
       "\n",
       "    .dataframe tbody tr th {\n",
       "        vertical-align: top;\n",
       "    }\n",
       "\n",
       "    .dataframe thead th {\n",
       "        text-align: right;\n",
       "    }\n",
       "</style>\n",
       "<table border=\"1\" class=\"dataframe\">\n",
       "  <thead>\n",
       "    <tr style=\"text-align: right;\">\n",
       "      <th></th>\n",
       "      <th>City</th>\n",
       "      <th>City ID</th>\n",
       "      <th>Latitude</th>\n",
       "      <th>Longitude</th>\n",
       "      <th>Humidity (%)</th>\n",
       "      <th>Cloudiness (%)</th>\n",
       "      <th>Temperature (F)</th>\n",
       "      <th>Wind Speed (mph)</th>\n",
       "    </tr>\n",
       "  </thead>\n",
       "  <tbody>\n",
       "    <tr>\n",
       "      <th>0</th>\n",
       "      <td>Port Alfred</td>\n",
       "      <td>964432</td>\n",
       "      <td>-33.59</td>\n",
       "      <td>26.89</td>\n",
       "      <td>73</td>\n",
       "      <td>17</td>\n",
       "      <td>51.19</td>\n",
       "      <td>10.13</td>\n",
       "    </tr>\n",
       "    <tr>\n",
       "      <th>1</th>\n",
       "      <td>Mataura</td>\n",
       "      <td>6201424</td>\n",
       "      <td>-46.19</td>\n",
       "      <td>168.86</td>\n",
       "      <td>96</td>\n",
       "      <td>21</td>\n",
       "      <td>50.00</td>\n",
       "      <td>1.99</td>\n",
       "    </tr>\n",
       "    <tr>\n",
       "      <th>2</th>\n",
       "      <td>Kapaa</td>\n",
       "      <td>5848280</td>\n",
       "      <td>22.08</td>\n",
       "      <td>-159.32</td>\n",
       "      <td>62</td>\n",
       "      <td>20</td>\n",
       "      <td>83.26</td>\n",
       "      <td>12.75</td>\n",
       "    </tr>\n",
       "    <tr>\n",
       "      <th>3</th>\n",
       "      <td>Najrān</td>\n",
       "      <td>103630</td>\n",
       "      <td>17.49</td>\n",
       "      <td>44.13</td>\n",
       "      <td>21</td>\n",
       "      <td>80</td>\n",
       "      <td>84.20</td>\n",
       "      <td>3.24</td>\n",
       "    </tr>\n",
       "    <tr>\n",
       "      <th>4</th>\n",
       "      <td>Albany</td>\n",
       "      <td>5106841</td>\n",
       "      <td>42.60</td>\n",
       "      <td>-73.97</td>\n",
       "      <td>40</td>\n",
       "      <td>10</td>\n",
       "      <td>73.00</td>\n",
       "      <td>6.69</td>\n",
       "    </tr>\n",
       "    <tr>\n",
       "      <th>...</th>\n",
       "      <td>...</td>\n",
       "      <td>...</td>\n",
       "      <td>...</td>\n",
       "      <td>...</td>\n",
       "      <td>...</td>\n",
       "      <td>...</td>\n",
       "      <td>...</td>\n",
       "      <td>...</td>\n",
       "    </tr>\n",
       "    <tr>\n",
       "      <th>599</th>\n",
       "      <td>Upata</td>\n",
       "      <td>3625710</td>\n",
       "      <td>8.01</td>\n",
       "      <td>-62.40</td>\n",
       "      <td>75</td>\n",
       "      <td>63</td>\n",
       "      <td>84.99</td>\n",
       "      <td>1.01</td>\n",
       "    </tr>\n",
       "    <tr>\n",
       "      <th>600</th>\n",
       "      <td>Mitú</td>\n",
       "      <td>3674676</td>\n",
       "      <td>1.20</td>\n",
       "      <td>-70.17</td>\n",
       "      <td>82</td>\n",
       "      <td>47</td>\n",
       "      <td>78.76</td>\n",
       "      <td>1.12</td>\n",
       "    </tr>\n",
       "    <tr>\n",
       "      <th>601</th>\n",
       "      <td>Siocon</td>\n",
       "      <td>1686123</td>\n",
       "      <td>7.71</td>\n",
       "      <td>122.14</td>\n",
       "      <td>79</td>\n",
       "      <td>87</td>\n",
       "      <td>80.47</td>\n",
       "      <td>4.61</td>\n",
       "    </tr>\n",
       "    <tr>\n",
       "      <th>602</th>\n",
       "      <td>Zhangye</td>\n",
       "      <td>1785036</td>\n",
       "      <td>38.93</td>\n",
       "      <td>100.45</td>\n",
       "      <td>36</td>\n",
       "      <td>0</td>\n",
       "      <td>68.92</td>\n",
       "      <td>5.73</td>\n",
       "    </tr>\n",
       "    <tr>\n",
       "      <th>603</th>\n",
       "      <td>Anadyr</td>\n",
       "      <td>2127202</td>\n",
       "      <td>64.75</td>\n",
       "      <td>177.48</td>\n",
       "      <td>54</td>\n",
       "      <td>76</td>\n",
       "      <td>57.09</td>\n",
       "      <td>13.42</td>\n",
       "    </tr>\n",
       "  </tbody>\n",
       "</table>\n",
       "<p>604 rows × 8 columns</p>\n",
       "</div>"
      ],
      "text/plain": [
       "            City  City ID  Latitude  Longitude  Humidity (%)  Cloudiness (%)  \\\n",
       "0    Port Alfred   964432    -33.59      26.89            73              17   \n",
       "1        Mataura  6201424    -46.19     168.86            96              21   \n",
       "2          Kapaa  5848280     22.08    -159.32            62              20   \n",
       "3         Najrān   103630     17.49      44.13            21              80   \n",
       "4         Albany  5106841     42.60     -73.97            40              10   \n",
       "..           ...      ...       ...        ...           ...             ...   \n",
       "599        Upata  3625710      8.01     -62.40            75              63   \n",
       "600         Mitú  3674676      1.20     -70.17            82              47   \n",
       "601       Siocon  1686123      7.71     122.14            79              87   \n",
       "602      Zhangye  1785036     38.93     100.45            36               0   \n",
       "603       Anadyr  2127202     64.75     177.48            54              76   \n",
       "\n",
       "     Temperature (F)  Wind Speed (mph)  \n",
       "0              51.19             10.13  \n",
       "1              50.00              1.99  \n",
       "2              83.26             12.75  \n",
       "3              84.20              3.24  \n",
       "4              73.00              6.69  \n",
       "..               ...               ...  \n",
       "599            84.99              1.01  \n",
       "600            78.76              1.12  \n",
       "601            80.47              4.61  \n",
       "602            68.92              5.73  \n",
       "603            57.09             13.42  \n",
       "\n",
       "[604 rows x 8 columns]"
      ]
     },
     "execution_count": 8,
     "metadata": {},
     "output_type": "execute_result"
    }
   ],
   "source": [
    "# Make a new DataFrame equal to the city data to drop all humidity outliers by index.\n",
    "clean_city_data = fullcitydata.drop(hum_drop, inplace=False)\n",
    "# Passing \"inplace=False\" will make a copy of the city_data DataFrame, which we call \"clean_city_data\".\n",
    "clean_city_data"
   ]
  },
  {
   "cell_type": "code",
   "execution_count": 9,
   "metadata": {},
   "outputs": [],
   "source": [
    "# Export the City_Data into a csv\n",
    "clean_city_data.to_csv(\"../output_data/clean_city_data.csv\", index=False, header=True)"
   ]
  },
  {
   "cell_type": "markdown",
   "metadata": {},
   "source": [
    "## Plotting the Data\n",
    "* Use proper labeling of the plots using plot titles (including date of analysis) and axes labels.\n",
    "* Save the plotted figures as .pngs."
   ]
  },
  {
   "cell_type": "markdown",
   "metadata": {},
   "source": [
    "## Latitude vs. Temperature Plot"
   ]
  },
  {
   "cell_type": "code",
   "execution_count": 10,
   "metadata": {
    "scrolled": true
   },
   "outputs": [
    {
     "data": {
      "text/plain": [
       "Text(0.5, 1.0, 'Latitude vs Temperature')"
      ]
     },
     "execution_count": 10,
     "metadata": {},
     "output_type": "execute_result"
    },
    {
     "data": {
      "image/png": "[encoded data removed]",
      "text/plain": [
       "<Figure size 432x288 with 1 Axes>"
      ]
     },
     "metadata": {
      "needs_background": "light"
     },
     "output_type": "display_data"
    }
   ],
   "source": [
    "x = clean_city_data[\"Latitude\"]\n",
    "y = clean_city_data[\"Temperature (F)\"]\n",
    "plt.scatter(x, y)\n",
    "plt.xlabel(\"Latitude\")\n",
    "plt.ylabel(\"Temperature (F)\")\n",
    "plt.title(\"Latitude vs Temperature\")"
   ]
  },
  {
   "cell_type": "markdown",
   "metadata": {},
   "source": [
    "## Latitude vs. Humidity Plot"
   ]
  },
  {
   "cell_type": "code",
   "execution_count": 11,
   "metadata": {},
   "outputs": [
    {
     "data": {
      "text/plain": [
       "Text(0.5, 1.0, 'Latitude vs Humidity')"
      ]
     },
     "execution_count": 11,
     "metadata": {},
     "output_type": "execute_result"
    },
    {
     "data": {
      "image/png": "[encoded data removed]",
      "text/plain": [
       "<Figure size 432x288 with 1 Axes>"
      ]
     },
     "metadata": {
      "needs_background": "light"
     },
     "output_type": "display_data"
    }
   ],
   "source": [
    "x = clean_city_data[\"Latitude\"]\n",
    "y = clean_city_data[\"Humidity (%)\"]\n",
    "plt.scatter(x, y)\n",
    "plt.xlabel(\"Latitude\")\n",
    "plt.ylabel(\"Percent Humidity\")\n",
    "plt.title(\"Latitude vs Humidity\")"
   ]
  },
  {
   "cell_type": "markdown",
   "metadata": {},
   "source": [
    "## Latitude vs. Cloudiness Plot"
   ]
  },
  {
   "cell_type": "code",
   "execution_count": 12,
   "metadata": {},
   "outputs": [
    {
     "data": {
      "text/plain": [
       "Text(0.5, 1.0, 'Latitude vs Cloudiness')"
      ]
     },
     "execution_count": 12,
     "metadata": {},
     "output_type": "execute_result"
    },
    {
     "data": {
      "image/png": "[encoded data removed]",
      "text/plain": [
       "<Figure size 432x288 with 1 Axes>"
      ]
     },
     "metadata": {
      "needs_background": "light"
     },
     "output_type": "display_data"
    }
   ],
   "source": [
    "x = clean_city_data[\"Latitude\"]\n",
    "y = clean_city_data[\"Cloudiness (%)\"]\n",
    "plt.scatter(x,y)\n",
    "plt.xlabel(\"Latitude\")\n",
    "plt.ylabel(\"Percent Cloudiness\")\n",
    "plt.title(\"Latitude vs Cloudiness\")"
   ]
  },
  {
   "cell_type": "markdown",
   "metadata": {},
   "source": [
    "## Latitude vs. Wind Speed Plot"
   ]
  },
  {
   "cell_type": "code",
   "execution_count": 13,
   "metadata": {},
   "outputs": [
    {
     "data": {
      "text/plain": [
       "Text(0.5, 1.0, 'Latitude vs Wind Speed')"
      ]
     },
     "execution_count": 13,
     "metadata": {},
     "output_type": "execute_result"
    },
    {
     "data": {
      "image/png": "[encoded data removed]",
      "text/plain": [
       "<Figure size 432x288 with 1 Axes>"
      ]
     },
     "metadata": {
      "needs_background": "light"
     },
     "output_type": "display_data"
    }
   ],
   "source": [
    "x = clean_city_data[\"Latitude\"]\n",
    "y = clean_city_data[\"Wind Speed (mph)\"]\n",
    "plt.scatter(x,y)\n",
    "plt.xlabel(\"Latitude\")\n",
    "plt.ylabel(\"Wind Speed (mph)\")\n",
    "plt.title(\"Latitude vs Wind Speed\")"
   ]
  },
  {
   "cell_type": "markdown",
   "metadata": {},
   "source": [
    "## Linear Regression"
   ]
  },
  {
   "cell_type": "code",
   "execution_count": 14,
   "metadata": {},
   "outputs": [],
   "source": [
    "# Create Northern and Southern Hemisphere DataFrames\n",
    "nor_hem = clean_city_data[clean_city_data.Latitude > 0]\n",
    "south_hem = clean_city_data[clean_city_data.Latitude < 0]"
   ]
  },
  {
   "cell_type": "markdown",
   "metadata": {},
   "source": [
    "####  Northern Hemisphere - Max Temp vs. Latitude Linear Regression"
   ]
  },
  {
   "cell_type": "code",
   "execution_count": 15,
   "metadata": {},
   "outputs": [
    {
     "data": {
      "text/plain": [
       "Text(6, 10, 'y = -0.51x + 89.55')"
      ]
     },
     "execution_count": 15,
     "metadata": {},
     "output_type": "execute_result"
    },
    {
     "data": {
      "image/png": "[encoded data removed]",
      "text/plain": [
       "<Figure size 432x288 with 1 Axes>"
      ]
     },
     "metadata": {
      "needs_background": "light"
     },
     "output_type": "display_data"
    }
   ],
   "source": [
    "x = nor_hem['Latitude']\n",
    "y= nor_hem['Temperature (F)']\n",
    "plt.scatter(x,y)\n",
    "plt.xlabel(\"Latitude\")\n",
    "plt.ylabel(\"Temperature (F)\")\n",
    "plt.title(\"Temp vs Latitude Linear Regression for Northern Hemisphere\")\n",
    "(slope, intercept, rvalue, pvalue, stderr) = linregress(x, y)\n",
    "regress_values = x * slope + intercept\n",
    "line_eq = \"y = \" + str(round(slope,2)) + \"x + \" + str(round(intercept,2))\n",
    "plt.plot(x,regress_values,\"r-\")\n",
    "plt.annotate(line_eq,(6,10),fontsize=15,color=\"red\")"
   ]
  },
  {
   "cell_type": "markdown",
   "metadata": {},
   "source": [
    "####  Southern Hemisphere - Max Temp vs. Latitude Linear Regression"
   ]
  },
  {
   "cell_type": "code",
   "execution_count": 16,
   "metadata": {},
   "outputs": [
    {
     "data": {
      "text/plain": [
       "Text(6, 10, 'y = 0.79x + 80.42')"
      ]
     },
     "execution_count": 16,
     "metadata": {},
     "output_type": "execute_result"
    },
    {
     "data": {
      "image/png": "[encoded data removed]",
      "text/plain": [
       "<Figure size 432x288 with 1 Axes>"
      ]
     },
     "metadata": {
      "needs_background": "light"
     },
     "output_type": "display_data"
    }
   ],
   "source": [
    "x = south_hem[\"Latitude\"]\n",
    "y = south_hem[\"Temperature (F)\"]\n",
    "plt.scatter(x, y)\n",
    "plt.xlabel(\"Latitude\")\n",
    "plt.ylabel(\"Temperature (F)\")\n",
    "plt.title(\"Temp vs Latitude Linear Regression for Southern Hemisphere\")\n",
    "(slope, intercept, rvalue, pvalue, stderr) = linregress(x, y)\n",
    "regress_values = x * slope + intercept\n",
    "line_eq = \"y = \" + str(round(slope,2)) + \"x + \" + str(round(intercept,2))\n",
    "plt.plot(x,regress_values,\"r-\")\n",
    "plt.annotate(line_eq,(6,10),fontsize=15,color=\"red\")\n"
   ]
  },
  {
   "cell_type": "markdown",
   "metadata": {},
   "source": [
    "####  Northern Hemisphere - Humidity (%) vs. Latitude Linear Regression"
   ]
  },
  {
   "cell_type": "code",
   "execution_count": 17,
   "metadata": {},
   "outputs": [
    {
     "data": {
      "text/plain": [
       "Text(6, 10, 'y = -0.05x + 71.2')"
      ]
     },
     "execution_count": 17,
     "metadata": {},
     "output_type": "execute_result"
    },
    {
     "data": {
      "image/png": "[encoded data removed]",
      "text/plain": [
       "<Figure size 432x288 with 1 Axes>"
      ]
     },
     "metadata": {
      "needs_background": "light"
     },
     "output_type": "display_data"
    }
   ],
   "source": [
    "x = nor_hem[\"Latitude\"]\n",
    "y = nor_hem[\"Humidity (%)\"]\n",
    "plt.scatter(x, y)\n",
    "plt.xlabel(\"Latitude\")\n",
    "plt.ylabel(\"Percent Humidity\")\n",
    "plt.title(\"Humidity vs Latitude Linear Regression for Northern Hemisphere\")\n",
    "(slope, intercept, rvalue, pvalue, stderr) = linregress(x, y)\n",
    "regress_values = x * slope + intercept\n",
    "line_eq = \"y = \" + str(round(slope,2)) + \"x + \" + str(round(intercept,2))\n",
    "plt.plot(x,regress_values,\"r-\")\n",
    "plt.annotate(line_eq,(6,10),fontsize=15,color=\"red\")"
   ]
  },
  {
   "cell_type": "markdown",
   "metadata": {},
   "source": [
    "####  Southern Hemisphere - Humidity (%) vs. Latitude Linear Regression"
   ]
  },
  {
   "cell_type": "code",
   "execution_count": 18,
   "metadata": {},
   "outputs": [
    {
     "data": {
      "text/plain": [
       "Text(6, 10, 'y = -0.05x + 70.86')"
      ]
     },
     "execution_count": 18,
     "metadata": {},
     "output_type": "execute_result"
    },
    {
     "data": {
      "image/png": "[encoded data removed]",
      "text/plain": [
       "<Figure size 432x288 with 1 Axes>"
      ]
     },
     "metadata": {
      "needs_background": "light"
     },
     "output_type": "display_data"
    }
   ],
   "source": [
    "x = south_hem[\"Latitude\"]\n",
    "y = south_hem[\"Humidity (%)\"]\n",
    "plt.scatter(x, y)\n",
    "plt.xlabel(\"Latitude\")\n",
    "plt.ylabel(\"Percent Humidity\")\n",
    "plt.title(\"Humidity vs Latitude Linear Regression for Southern Hemisphere\")\n",
    "(slope, intercept, rvalue, pvalue, stderr) = linregress(x, y)\n",
    "regress_values = x * slope + intercept\n",
    "line_eq = \"y = \" + str(round(slope,2)) + \"x + \" + str(round(intercept,2))\n",
    "plt.plot(x,regress_values,\"r-\")\n",
    "plt.annotate(line_eq,(6,10),fontsize=15,color=\"red\")"
   ]
  },
  {
   "cell_type": "markdown",
   "metadata": {},
   "source": [
    "####  Northern Hemisphere - Cloudiness (%) vs. Latitude Linear Regression"
   ]
  },
  {
   "cell_type": "code",
   "execution_count": 19,
   "metadata": {},
   "outputs": [
    {
     "data": {
      "text/plain": [
       "Text(6, 10, 'y = -0.14x + 58.01')"
      ]
     },
     "execution_count": 19,
     "metadata": {},
     "output_type": "execute_result"
    },
    {
     "data": {
      "image/png": "[encoded data removed]",
      "text/plain": [
       "<Figure size 432x288 with 1 Axes>"
      ]
     },
     "metadata": {
      "needs_background": "light"
     },
     "output_type": "display_data"
    }
   ],
   "source": [
    "x = nor_hem[\"Latitude\"]\n",
    "y = nor_hem[\"Cloudiness (%)\"]\n",
    "plt.scatter(x, y)\n",
    "plt.xlabel(\"Latitude\")\n",
    "plt.ylabel(\"Percent Cloud Cover\")\n",
    "plt.title(\"Cloudiness vs Latitude Linear Regression for Northern Hemisphere\")\n",
    "(slope, intercept, rvalue, pvalue, stderr) = linregress(x, y)\n",
    "regress_values = x * slope + intercept\n",
    "line_eq = \"y = \" + str(round(slope,2)) + \"x + \" + str(round(intercept,2))\n",
    "plt.plot(x,regress_values,\"r-\")\n",
    "plt.annotate(line_eq,(6,10),fontsize=15,color=\"red\")"
   ]
  },
  {
   "cell_type": "markdown",
   "metadata": {},
   "source": [
    "####  Southern Hemisphere - Cloudiness (%) vs. Latitude Linear Regression"
   ]
  },
  {
   "cell_type": "code",
   "execution_count": 20,
   "metadata": {},
   "outputs": [
    {
     "data": {
      "text/plain": [
       "Text(6, 10, 'y = 0.23x + 46.74')"
      ]
     },
     "execution_count": 20,
     "metadata": {},
     "output_type": "execute_result"
    },
    {
     "data": {
      "image/png": "[encoded data removed]",
      "text/plain": [
       "<Figure size 432x288 with 1 Axes>"
      ]
     },
     "metadata": {
      "needs_background": "light"
     },
     "output_type": "display_data"
    }
   ],
   "source": [
    "x = south_hem[\"Latitude\"]\n",
    "y = south_hem[\"Cloudiness (%)\"]\n",
    "plt.scatter(x, y)\n",
    "plt.xlabel(\"Latitude\")\n",
    "plt.ylabel(\"Percent Cloud Cover\")\n",
    "plt.title(\"Cloudiness vs Latitude Linear Regression for Southern Hemisphere\")\n",
    "(slope, intercept, rvalue, pvalue, stderr) = linregress(x, y)\n",
    "regress_values = x * slope + intercept\n",
    "line_eq = \"y = \" + str(round(slope,2)) + \"x + \" + str(round(intercept,2))\n",
    "plt.plot(x,regress_values,\"r-\")\n",
    "plt.annotate(line_eq,(6,10),fontsize=15,color=\"red\")"
   ]
  },
  {
   "cell_type": "markdown",
   "metadata": {},
   "source": [
    "####  Northern Hemisphere - Wind Speed (mph) vs. Latitude Linear Regression"
   ]
  },
  {
   "cell_type": "code",
   "execution_count": 21,
   "metadata": {},
   "outputs": [
    {
     "data": {
      "text/plain": [
       "Text(6, 10, 'y = 0.02x + 6.8')"
      ]
     },
     "execution_count": 21,
     "metadata": {},
     "output_type": "execute_result"
    },
    {
     "data": {
      "image/png": "[encoded data removed]",
      "text/plain": [
       "<Figure size 432x288 with 1 Axes>"
      ]
     },
     "metadata": {
      "needs_background": "light"
     },
     "output_type": "display_data"
    }
   ],
   "source": [
    "x = nor_hem[\"Latitude\"]\n",
    "y = nor_hem[\"Wind Speed (mph)\"]\n",
    "plt.scatter(x, y)\n",
    "plt.xlabel(\"Latitude\")\n",
    "plt.ylabel(\"Wind Speed (mph)\")\n",
    "plt.title(\"Wind Speed vs Latitude Linear Regression for Northern Hemisphere\")\n",
    "(slope, intercept, rvalue, pvalue, stderr) = linregress(x, y)\n",
    "regress_values = x * slope + intercept\n",
    "line_eq = \"y = \" + str(round(slope,2)) + \"x + \" + str(round(intercept,2))\n",
    "plt.plot(x,regress_values,\"r-\")\n",
    "plt.annotate(line_eq,(6,10),fontsize=15,color=\"red\")"
   ]
  },
  {
   "cell_type": "markdown",
   "metadata": {},
   "source": [
    "####  Southern Hemisphere - Wind Speed (mph) vs. Latitude Linear Regression"
   ]
  },
  {
   "cell_type": "code",
   "execution_count": 22,
   "metadata": {},
   "outputs": [
    {
     "data": {
      "text/plain": [
       "Text(6, 10, 'y = -0.07x + 6.7')"
      ]
     },
     "execution_count": 22,
     "metadata": {},
     "output_type": "execute_result"
    },
    {
     "data": {
      "image/png": "[encoded data removed]",
      "text/plain": [
       "<Figure size 432x288 with 1 Axes>"
      ]
     },
     "metadata": {
      "needs_background": "light"
     },
     "output_type": "display_data"
    }
   ],
   "source": [
    "x = south_hem[\"Latitude\"]\n",
    "y = south_hem[\"Wind Speed (mph)\"]\n",
    "plt.scatter(x, y)\n",
    "plt.xlabel(\"Latitude\")\n",
    "plt.ylabel(\"Wind Speed (mph)\")\n",
    "plt.title(\"Wind Speed vs Latitude Linear Regression for Southern Hemisphere\")\n",
    "(slope, intercept, rvalue, pvalue, stderr) = linregress(x, y)\n",
    "regress_values = x * slope + intercept\n",
    "line_eq = \"y = \" + str(round(slope,2)) + \"x + \" + str(round(intercept,2))\n",
    "plt.plot(x,regress_values,\"r-\")\n",
    "plt.annotate(line_eq,(6,10),fontsize=15,color=\"red\")"
   ]
  },
  {
   "cell_type": "code",
   "execution_count": null,
   "metadata": {},
   "outputs": [],
   "source": []
  }
 ],
 "metadata": {
  "anaconda-cloud": {},
  "kernel_info": {
   "name": "python3"
  },
  "kernelspec": {
   "display_name": "Python 3",
   "language": "python",
   "name": "python3"
  },
  "language_info": {
   "codemirror_mode": {
    "name": "ipython",
    "version": 3
   },
   "file_extension": ".py",
   "mimetype": "text/x-python",
   "name": "python",
   "nbconvert_exporter": "python",
   "pygments_lexer": "ipython3",
   "version": "3.6.10"
  },
  "latex_envs": {
   "LaTeX_envs_menu_present": true,
   "autoclose": false,
   "autocomplete": true,
   "bibliofile": "biblio.bib",
   "cite_by": "apalike",
   "current_citInitial": 1,
   "eqLabelWithNumbers": true,
   "eqNumInitial": 1,
   "hotkeys": {
    "equation": "Ctrl-E",
    "itemize": "Ctrl-I"
   },
   "labels_anchors": false,
   "latex_user_defs": false,
   "report_style_numbering": false,
   "user_envs_cfg": false
  },
  "nteract": {
   "version": "0.12.3"
  }
 },
 "nbformat": 4,
 "nbformat_minor": 2
}
